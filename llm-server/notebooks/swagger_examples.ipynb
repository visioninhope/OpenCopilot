{
 "cells": [
  {
   "cell_type": "markdown",
   "metadata": {},
   "source": [
    "### SWAGGER FUNCTIONS\n",
    "Automatically derive the json from the schema, and use it as an example for the large language model to construct the next payload using prev conversations"
   ]
  },
  {
   "cell_type": "code",
   "execution_count": 56,
   "metadata": {},
   "outputs": [],
   "source": [
    "# pip install prance\n",
    "# pip install openapi-spec-validator"
   ]
  },
  {
   "cell_type": "code",
   "execution_count": 57,
   "metadata": {},
   "outputs": [],
   "source": [
    "import prance"
   ]
  },
  {
   "cell_type": "code",
   "execution_count": 58,
   "metadata": {},
   "outputs": [],
   "source": [
    "from prance import ResolvingParser"
   ]
  },
  {
   "cell_type": "code",
   "execution_count": 59,
   "metadata": {},
   "outputs": [],
   "source": [
    "parser = ResolvingParser('https://petstore3.swagger.io/api/v3/openapi.json')"
   ]
  },
  {
   "cell_type": "code",
   "execution_count": 60,
   "metadata": {},
   "outputs": [
    {
     "data": {
      "text/plain": [
       "'3.0.2'"
      ]
     },
     "execution_count": 60,
     "metadata": {},
     "output_type": "execute_result"
    }
   ],
   "source": [
    "parser.specification[\"openapi\"]"
   ]
  },
  {
   "cell_type": "code",
   "execution_count": 61,
   "metadata": {},
   "outputs": [
    {
     "data": {
      "text/plain": [
       "'/api/v3'"
      ]
     },
     "execution_count": 61,
     "metadata": {},
     "output_type": "execute_result"
    }
   ],
   "source": [
    "parser.specification[\"servers\"][0]['url']"
   ]
  },
  {
   "cell_type": "code",
   "execution_count": 62,
   "metadata": {},
   "outputs": [],
   "source": [
    "import json\n"
   ]
  },
  {
   "cell_type": "code",
   "execution_count": 63,
   "metadata": {},
   "outputs": [],
   "source": [
    "from typing import Dict, Union, Optional, List\n",
    "\n",
    "def get_api_info_by_operation_id(data: Dict[str, Dict[str, dict]], target_operation_id: str) -> Dict[str, Union[str, dict, Optional[Dict[str, dict]], List[str]]]:\n",
    "    api_info = {\n",
    "        \"endpoint\": None,\n",
    "        \"method\": None,\n",
    "        \"path_params\": {},\n",
    "        \"query_params\": {},\n",
    "        \"body_schema\": None,\n",
    "        \"servers\": []\n",
    "    }\n",
    "\n",
    "    for path, methods in data[\"paths\"].items():\n",
    "        for method, details in methods.items():\n",
    "            if \"operationId\" in details and details[\"operationId\"] == target_operation_id:\n",
    "                # Extract endpoint and method\n",
    "                api_info[\"endpoint\"] = path\n",
    "                api_info[\"method\"] = method.upper()\n",
    "\n",
    "                # Extract path parameters and their schemas\n",
    "                path_params = {}\n",
    "                for parameter in details.get(\"parameters\", []):\n",
    "                    if parameter[\"in\"] == \"path\":\n",
    "                        param_name = parameter[\"name\"]\n",
    "                        param_schema = parameter.get(\"schema\", {})\n",
    "                        path_params[param_name] = param_schema\n",
    "                api_info[\"path_params\"] = path_params\n",
    "\n",
    "                # Extract query parameters and their schemas\n",
    "                query_params = {}\n",
    "                for parameter in details.get(\"parameters\", []):\n",
    "                    if parameter[\"in\"] == \"query\":\n",
    "                        param_name = parameter[\"name\"]\n",
    "                        param_schema = parameter.get(\"schema\", {})\n",
    "                        query_params[param_name] = param_schema\n",
    "                api_info[\"query_params\"] = query_params\n",
    "\n",
    "                # Extract request body schema\n",
    "                if \"requestBody\" in details:\n",
    "                    request_body = details[\"requestBody\"]\n",
    "                    if \"content\" in request_body and \"application/json\" in request_body[\"content\"]:\n",
    "                        api_info[\"body_schema\"] = request_body[\"content\"][\"application/json\"][\"schema\"]\n",
    "\n",
    "                # Extract server URLs\n",
    "                servers = data.get(\"servers\", [])\n",
    "                server_urls = [server[\"url\"] for server in servers]\n",
    "                api_info[\"servers\"] = server_urls\n",
    "\n",
    "                return api_info"
   ]
  },
  {
   "cell_type": "code",
   "execution_count": 64,
   "metadata": {},
   "outputs": [
    {
     "data": {
      "text/plain": [
       "{'endpoint': '/pet/findByStatus',\n",
       " 'method': 'GET',\n",
       " 'path_params': {},\n",
       " 'query_params': {'status': {'type': 'string',\n",
       "   'default': 'available',\n",
       "   'enum': ['available', 'pending', 'sold']}},\n",
       " 'body_schema': None,\n",
       " 'servers': ['/api/v3']}"
      ]
     },
     "execution_count": 64,
     "metadata": {},
     "output_type": "execute_result"
    }
   ],
   "source": [
    "get_api_info_by_operation_id(parser.specification, 'findPetsByStatus')"
   ]
  },
  {
   "cell_type": "code",
   "execution_count": 65,
   "metadata": {},
   "outputs": [
    {
     "data": {
      "text/plain": [
       "{'endpoint': '/pet/{petId}',\n",
       " 'method': 'GET',\n",
       " 'path_params': {'petId': {'type': 'integer', 'format': 'int64'}},\n",
       " 'query_params': {},\n",
       " 'body_schema': None,\n",
       " 'servers': ['/api/v3']}"
      ]
     },
     "execution_count": 65,
     "metadata": {},
     "output_type": "execute_result"
    }
   ],
   "source": [
    "get_api_info_by_operation_id(parser.specification, 'getPetById')"
   ]
  },
  {
   "cell_type": "code",
   "execution_count": 66,
   "metadata": {},
   "outputs": [
    {
     "data": {
      "text/plain": [
       "{'endpoint': '/pet/{petId}',\n",
       " 'method': 'POST',\n",
       " 'path_params': {'petId': {'type': 'integer', 'format': 'int64'}},\n",
       " 'query_params': {'name': {'type': 'string'}, 'status': {'type': 'string'}},\n",
       " 'body_schema': None,\n",
       " 'servers': ['/api/v3']}"
      ]
     },
     "execution_count": 66,
     "metadata": {},
     "output_type": "execute_result"
    }
   ],
   "source": [
    "get_api_info_by_operation_id(parser.specification, 'updatePetWithForm')"
   ]
  },
  {
   "cell_type": "code",
   "execution_count": 68,
   "metadata": {},
   "outputs": [
    {
     "data": {
      "text/plain": [
       "{'endpoint': '/user/{username}',\n",
       " 'method': 'PUT',\n",
       " 'path_params': {'username': {'type': 'string'}},\n",
       " 'query_params': {},\n",
       " 'body_schema': {'type': 'object',\n",
       "  'properties': {'id': {'type': 'integer', 'format': 'int64', 'example': 10},\n",
       "   'username': {'type': 'string', 'example': 'theUser'},\n",
       "   'firstName': {'type': 'string', 'example': 'John'},\n",
       "   'lastName': {'type': 'string', 'example': 'James'},\n",
       "   'email': {'type': 'string', 'example': 'john@email.com'},\n",
       "   'password': {'type': 'string', 'example': '12345'},\n",
       "   'phone': {'type': 'string', 'example': '12345'},\n",
       "   'userStatus': {'type': 'integer',\n",
       "    'description': 'User Status',\n",
       "    'format': 'int32',\n",
       "    'example': 1}},\n",
       "  'xml': {'name': 'user'}},\n",
       " 'servers': ['/api/v3']}"
      ]
     },
     "execution_count": 68,
     "metadata": {},
     "output_type": "execute_result"
    }
   ],
   "source": [
    "get_api_info_by_operation_id(parser.specification, 'updateUser')"
   ]
  }
 ],
 "metadata": {
  "kernelspec": {
   "display_name": "venv",
   "language": "python",
   "name": "python3"
  },
  "language_info": {
   "codemirror_mode": {
    "name": "ipython",
    "version": 3
   },
   "file_extension": ".py",
   "mimetype": "text/x-python",
   "name": "python",
   "nbconvert_exporter": "python",
   "pygments_lexer": "ipython3",
   "version": "3.11.4"
  },
  "orig_nbformat": 4
 },
 "nbformat": 4,
 "nbformat_minor": 2
}
