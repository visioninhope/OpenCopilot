{
 "cells": [
  {
   "cell_type": "markdown",
   "metadata": {},
   "source": [
    "### SWAGGER FUNCTIONS\n",
    "Automatically derive the json from the schema, and use it as an example for the large language model to construct the next payload using prev conversations"
   ]
  },
  {
   "cell_type": "code",
   "execution_count": 2,
   "metadata": {},
   "outputs": [
    {
     "name": "stdout",
     "output_type": "stream",
     "text": [
      "Requirement already satisfied: prance in /Users/shanurrahman/anaconda3/lib/python3.11/site-packages (23.6.21.0)\n",
      "Requirement already satisfied: chardet>=3.0 in /Users/shanurrahman/anaconda3/lib/python3.11/site-packages (from prance) (4.0.0)\n",
      "Requirement already satisfied: ruamel.yaml>=0.17.10 in /Users/shanurrahman/anaconda3/lib/python3.11/site-packages (from prance) (0.17.21)\n",
      "Requirement already satisfied: requests>=2.25 in /Users/shanurrahman/anaconda3/lib/python3.11/site-packages (from prance) (2.31.0)\n",
      "Requirement already satisfied: six~=1.15 in /Users/shanurrahman/anaconda3/lib/python3.11/site-packages (from prance) (1.16.0)\n",
      "Requirement already satisfied: packaging>=21.3 in /Users/shanurrahman/anaconda3/lib/python3.11/site-packages (from prance) (23.1)\n",
      "Requirement already satisfied: charset-normalizer<4,>=2 in /Users/shanurrahman/anaconda3/lib/python3.11/site-packages (from requests>=2.25->prance) (3.2.0)\n",
      "Requirement already satisfied: idna<4,>=2.5 in /Users/shanurrahman/anaconda3/lib/python3.11/site-packages (from requests>=2.25->prance) (3.4)\n",
      "Requirement already satisfied: urllib3<3,>=1.21.1 in /Users/shanurrahman/anaconda3/lib/python3.11/site-packages (from requests>=2.25->prance) (1.26.16)\n",
      "Requirement already satisfied: certifi>=2017.4.17 in /Users/shanurrahman/anaconda3/lib/python3.11/site-packages (from requests>=2.25->prance) (2023.7.22)\n",
      "Note: you may need to restart the kernel to use updated packages.\n"
     ]
    }
   ],
   "source": [
    "pip install prance"
   ]
  },
  {
   "cell_type": "code",
   "execution_count": 3,
   "metadata": {},
   "outputs": [],
   "source": [
    "import prance"
   ]
  },
  {
   "cell_type": "code",
   "execution_count": 4,
   "metadata": {},
   "outputs": [],
   "source": [
    "from prance import ResolvingParser"
   ]
  },
  {
   "cell_type": "code",
   "execution_count": 5,
   "metadata": {},
   "outputs": [
    {
     "name": "stdout",
     "output_type": "stream",
     "text": [
      "Requirement already satisfied: openapi-spec-validator in /Users/shanurrahman/anaconda3/lib/python3.11/site-packages (0.6.0)\n",
      "Requirement already satisfied: jsonschema<5.0.0,>=4.18.0 in /Users/shanurrahman/anaconda3/lib/python3.11/site-packages (from openapi-spec-validator) (4.19.1)\n",
      "Requirement already satisfied: jsonschema-spec<0.3.0,>=0.2.3 in /Users/shanurrahman/anaconda3/lib/python3.11/site-packages (from openapi-spec-validator) (0.2.4)\n",
      "Requirement already satisfied: lazy-object-proxy<2.0.0,>=1.7.1 in /Users/shanurrahman/anaconda3/lib/python3.11/site-packages (from openapi-spec-validator) (1.9.0)\n",
      "Requirement already satisfied: openapi-schema-validator<0.7.0,>=0.6.0 in /Users/shanurrahman/anaconda3/lib/python3.11/site-packages (from openapi-spec-validator) (0.6.1)\n",
      "Requirement already satisfied: attrs>=22.2.0 in /Users/shanurrahman/anaconda3/lib/python3.11/site-packages (from jsonschema<5.0.0,>=4.18.0->openapi-spec-validator) (23.1.0)\n",
      "Requirement already satisfied: jsonschema-specifications>=2023.03.6 in /Users/shanurrahman/anaconda3/lib/python3.11/site-packages (from jsonschema<5.0.0,>=4.18.0->openapi-spec-validator) (2023.7.1)\n",
      "Requirement already satisfied: referencing>=0.28.4 in /Users/shanurrahman/anaconda3/lib/python3.11/site-packages (from jsonschema<5.0.0,>=4.18.0->openapi-spec-validator) (0.30.2)\n",
      "Requirement already satisfied: rpds-py>=0.7.1 in /Users/shanurrahman/anaconda3/lib/python3.11/site-packages (from jsonschema<5.0.0,>=4.18.0->openapi-spec-validator) (0.10.2)\n",
      "Requirement already satisfied: PyYAML>=5.1 in /Users/shanurrahman/anaconda3/lib/python3.11/site-packages (from jsonschema-spec<0.3.0,>=0.2.3->openapi-spec-validator) (6.0)\n",
      "Requirement already satisfied: pathable<0.5.0,>=0.4.1 in /Users/shanurrahman/anaconda3/lib/python3.11/site-packages (from jsonschema-spec<0.3.0,>=0.2.3->openapi-spec-validator) (0.4.3)\n",
      "Requirement already satisfied: requests<3.0.0,>=2.31.0 in /Users/shanurrahman/anaconda3/lib/python3.11/site-packages (from jsonschema-spec<0.3.0,>=0.2.3->openapi-spec-validator) (2.31.0)\n",
      "Requirement already satisfied: rfc3339-validator in /Users/shanurrahman/anaconda3/lib/python3.11/site-packages (from openapi-schema-validator<0.7.0,>=0.6.0->openapi-spec-validator) (0.1.4)\n",
      "Requirement already satisfied: charset-normalizer<4,>=2 in /Users/shanurrahman/anaconda3/lib/python3.11/site-packages (from requests<3.0.0,>=2.31.0->jsonschema-spec<0.3.0,>=0.2.3->openapi-spec-validator) (3.2.0)\n",
      "Requirement already satisfied: idna<4,>=2.5 in /Users/shanurrahman/anaconda3/lib/python3.11/site-packages (from requests<3.0.0,>=2.31.0->jsonschema-spec<0.3.0,>=0.2.3->openapi-spec-validator) (3.4)\n",
      "Requirement already satisfied: urllib3<3,>=1.21.1 in /Users/shanurrahman/anaconda3/lib/python3.11/site-packages (from requests<3.0.0,>=2.31.0->jsonschema-spec<0.3.0,>=0.2.3->openapi-spec-validator) (1.26.16)\n",
      "Requirement already satisfied: certifi>=2017.4.17 in /Users/shanurrahman/anaconda3/lib/python3.11/site-packages (from requests<3.0.0,>=2.31.0->jsonschema-spec<0.3.0,>=0.2.3->openapi-spec-validator) (2023.7.22)\n",
      "Requirement already satisfied: six in /Users/shanurrahman/anaconda3/lib/python3.11/site-packages (from rfc3339-validator->openapi-schema-validator<0.7.0,>=0.6.0->openapi-spec-validator) (1.16.0)\n",
      "Note: you may need to restart the kernel to use updated packages.\n"
     ]
    }
   ],
   "source": [
    "pip install openapi-spec-validator"
   ]
  },
  {
   "cell_type": "code",
   "execution_count": 6,
   "metadata": {},
   "outputs": [],
   "source": [
    "parser = ResolvingParser('https://petstore3.swagger.io/api/v3/openapi.json')"
   ]
  },
  {
   "cell_type": "code",
   "execution_count": 20,
   "metadata": {},
   "outputs": [
    {
     "data": {
      "text/plain": [
       "'3.0.2'"
      ]
     },
     "execution_count": 20,
     "metadata": {},
     "output_type": "execute_result"
    }
   ],
   "source": [
    "parser.specification[\"openapi\"]"
   ]
  },
  {
   "cell_type": "code",
   "execution_count": 30,
   "metadata": {},
   "outputs": [
    {
     "data": {
      "text/plain": [
       "[{'url': '/api/v3'}]"
      ]
     },
     "execution_count": 30,
     "metadata": {},
     "output_type": "execute_result"
    }
   ],
   "source": [
    "parser.specification[\"servers\"]"
   ]
  },
  {
   "cell_type": "code",
   "execution_count": 9,
   "metadata": {},
   "outputs": [],
   "source": [
    "import json\n"
   ]
  },
  {
   "cell_type": "code",
   "execution_count": 10,
   "metadata": {},
   "outputs": [],
   "source": [
    "from typing import Dict, Union, Optional\n",
    "\n",
    "def get_api_info_by_operation_id(data: Dict[str, Dict[str, dict]], target_operation_id: str) -> Dict[str, Union[str, dict, Optional[Dict[str, dict]]]]:\n",
    "    api_info = {\n",
    "        \"endpoint\": None,\n",
    "        \"method\": None,\n",
    "        \"path_params\": {},\n",
    "        \"query_params\": {},\n",
    "        \"body_schema\": None\n",
    "    }\n",
    "\n",
    "    for path, methods in data[\"paths\"].items():\n",
    "        for method, details in methods.items():\n",
    "            if \"operationId\" in details and details[\"operationId\"] == target_operation_id:\n",
    "                # Extract endpoint and method\n",
    "                api_info[\"endpoint\"] = path\n",
    "                api_info[\"method\"] = method.upper()\n",
    "\n",
    "                # Extract path parameters and their schemas\n",
    "                path_params = {}\n",
    "                for parameter in details.get(\"parameters\", []):\n",
    "                    if parameter[\"in\"] == \"path\":\n",
    "                        param_name = parameter[\"name\"]\n",
    "                        param_schema = parameter.get(\"schema\", {})\n",
    "                        path_params[param_name] = param_schema\n",
    "                api_info[\"path_params\"] = path_params\n",
    "\n",
    "                # Extract query parameters and their schemas\n",
    "                query_params = {}\n",
    "                for parameter in details.get(\"parameters\", []):\n",
    "                    if parameter[\"in\"] == \"query\":\n",
    "                        param_name = parameter[\"name\"]\n",
    "                        param_schema = parameter.get(\"schema\", {})\n",
    "                        query_params[param_name] = param_schema\n",
    "                api_info[\"query_params\"] = query_params\n",
    "\n",
    "                # Extract request body schema\n",
    "                if \"requestBody\" in details:\n",
    "                    request_body = details[\"requestBody\"]\n",
    "                    if \"content\" in request_body and \"application/json\" in request_body[\"content\"]:\n",
    "                        api_info[\"body_schema\"] = request_body[\"content\"][\"application/json\"][\"schema\"]\n",
    "\n",
    "                return api_info"
   ]
  },
  {
   "cell_type": "code",
   "execution_count": 27,
   "metadata": {},
   "outputs": [
    {
     "data": {
      "text/plain": [
       "{'endpoint': '/pet/findByStatus',\n",
       " 'method': 'GET',\n",
       " 'path_params': {},\n",
       " 'query_params': {'status': {'type': 'string',\n",
       "   'default': 'available',\n",
       "   'enum': ['available', 'pending', 'sold']}},\n",
       " 'body_schema': None}"
      ]
     },
     "execution_count": 27,
     "metadata": {},
     "output_type": "execute_result"
    }
   ],
   "source": [
    "get_api_info_by_operation_id(parser.specification, 'findPetsByStatus')"
   ]
  },
  {
   "cell_type": "code",
   "execution_count": 25,
   "metadata": {},
   "outputs": [
    {
     "data": {
      "text/plain": [
       "{'endpoint': '/pet/{petId}',\n",
       " 'method': 'GET',\n",
       " 'path_params': {'petId': {'type': 'integer', 'format': 'int64'}},\n",
       " 'query_params': {},\n",
       " 'body_schema': None}"
      ]
     },
     "execution_count": 25,
     "metadata": {},
     "output_type": "execute_result"
    }
   ],
   "source": [
    "get_api_info_by_operation_id(parser.specification, 'getPetById')"
   ]
  },
  {
   "cell_type": "code",
   "execution_count": 28,
   "metadata": {},
   "outputs": [
    {
     "data": {
      "text/plain": [
       "{'endpoint': '/pet/{petId}',\n",
       " 'method': 'POST',\n",
       " 'path_params': {'petId': {'type': 'integer', 'format': 'int64'}},\n",
       " 'query_params': {'name': {'type': 'string'}, 'status': {'type': 'string'}},\n",
       " 'body_schema': None}"
      ]
     },
     "execution_count": 28,
     "metadata": {},
     "output_type": "execute_result"
    }
   ],
   "source": [
    "get_api_info_by_operation_id(parser.specification, 'updatePetWithForm')"
   ]
  },
  {
   "cell_type": "code",
   "execution_count": 14,
   "metadata": {},
   "outputs": [
    {
     "data": {
      "text/plain": [
       "{'endpoint': '/user/{username}',\n",
       " 'method': 'PUT',\n",
       " 'path_params': {'username': {'type': 'string'}},\n",
       " 'query_params': {},\n",
       " 'body_schema': {'type': 'object',\n",
       "  'properties': {'id': {'type': 'integer', 'format': 'int64', 'example': 10},\n",
       "   'username': {'type': 'string', 'example': 'theUser'},\n",
       "   'firstName': {'type': 'string', 'example': 'John'},\n",
       "   'lastName': {'type': 'string', 'example': 'James'},\n",
       "   'email': {'type': 'string', 'example': 'john@email.com'},\n",
       "   'password': {'type': 'string', 'example': '12345'},\n",
       "   'phone': {'type': 'string', 'example': '12345'},\n",
       "   'userStatus': {'type': 'integer',\n",
       "    'description': 'User Status',\n",
       "    'format': 'int32',\n",
       "    'example': 1}},\n",
       "  'xml': {'name': 'user'}}}"
      ]
     },
     "execution_count": 14,
     "metadata": {},
     "output_type": "execute_result"
    }
   ],
   "source": [
    "get_api_info_by_operation_id(json.loads(t), 'updateUser')"
   ]
  },
  {
   "cell_type": "code",
   "execution_count": null,
   "metadata": {},
   "outputs": [],
   "source": []
  }
 ],
 "metadata": {
  "kernelspec": {
   "display_name": "venv",
   "language": "python",
   "name": "python3"
  },
  "language_info": {
   "codemirror_mode": {
    "name": "ipython",
    "version": 3
   },
   "file_extension": ".py",
   "mimetype": "text/x-python",
   "name": "python",
   "nbconvert_exporter": "python",
   "pygments_lexer": "ipython3",
   "version": "3.11.4"
  },
  "orig_nbformat": 4
 },
 "nbformat": 4,
 "nbformat_minor": 2
}
